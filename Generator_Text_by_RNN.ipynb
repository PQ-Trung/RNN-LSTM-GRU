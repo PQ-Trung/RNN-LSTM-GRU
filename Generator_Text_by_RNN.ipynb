{
  "nbformat": 4,
  "nbformat_minor": 0,
  "metadata": {
    "colab": {
      "name": "Generator Text by RNN.ipynb",
      "provenance": [],
      "collapsed_sections": []
    },
    "kernelspec": {
      "name": "python3",
      "display_name": "Python 3"
    },
    "accelerator": "GPU"
  },
  "cells": [
    {
      "cell_type": "code",
      "metadata": {
        "id": "DjKkgZEorN_I",
        "colab_type": "code",
        "outputId": "5b25c854-e100-4c83-a081-1ae51cf83c98",
        "colab": {
          "base_uri": "https://localhost:8080/",
          "height": 35
        }
      },
      "source": [
        "cd \"/content/drive/My Drive/Generator Text by RNN\""
      ],
      "execution_count": 1,
      "outputs": [
        {
          "output_type": "stream",
          "text": [
            "/content/drive/My Drive/Generator Text by RNN\n"
          ],
          "name": "stdout"
        }
      ]
    },
    {
      "cell_type": "code",
      "metadata": {
        "id": "LDtNPXZ9uAvg",
        "colab_type": "code",
        "colab": {}
      },
      "source": [
        "path_txt = \"./1268-0.txt\""
      ],
      "execution_count": 0,
      "outputs": []
    },
    {
      "cell_type": "code",
      "metadata": {
        "id": "1qOEIPEOuESa",
        "colab_type": "code",
        "colab": {}
      },
      "source": [
        "import numpy as np\n"
      ],
      "execution_count": 0,
      "outputs": []
    },
    {
      "cell_type": "code",
      "metadata": {
        "id": "0TvlL4VcuRay",
        "colab_type": "code",
        "colab": {}
      },
      "source": [
        "with open(\"1268-0.txt\", \"r\") as fp:\n",
        "    text = fp.read()"
      ],
      "execution_count": 0,
      "outputs": []
    },
    {
      "cell_type": "code",
      "metadata": {
        "id": "sCxvRhw2ufsN",
        "colab_type": "code",
        "colab": {}
      },
      "source": [
        "start_indx = text.find('THE MYSTERIOUS ISLAND')\n",
        "end_indx = text.find('End of the Project Gutenberg')"
      ],
      "execution_count": 0,
      "outputs": []
    },
    {
      "cell_type": "code",
      "metadata": {
        "id": "2Oc1pmEBugoJ",
        "colab_type": "code",
        "colab": {}
      },
      "source": [
        "text = text[start_indx:end_indx]"
      ],
      "execution_count": 0,
      "outputs": []
    },
    {
      "cell_type": "code",
      "metadata": {
        "id": "GbT1ufeCvXiA",
        "colab_type": "code",
        "colab": {}
      },
      "source": [
        "char_set = set(text) # Nhung ky tu xuat hien trong text"
      ],
      "execution_count": 0,
      "outputs": []
    },
    {
      "cell_type": "code",
      "metadata": {
        "id": "SRJWm1TrvabS",
        "colab_type": "code",
        "outputId": "2d44fc63-4595-46ab-bd45-b7fe2aae3c44",
        "colab": {
          "base_uri": "https://localhost:8080/",
          "height": 53
        }
      },
      "source": [
        "print('Total Length: ', len(text))\n",
        "print('Unique Characters: ', len(char_set))"
      ],
      "execution_count": 8,
      "outputs": [
        {
          "output_type": "stream",
          "text": [
            "Total Length:  1112350\n",
            "Unique Characters:  80\n"
          ],
          "name": "stdout"
        }
      ]
    },
    {
      "cell_type": "code",
      "metadata": {
        "id": "_KlK2Kkhv1ya",
        "colab_type": "code",
        "colab": {}
      },
      "source": [
        "chars_sorted = sorted(char_set)"
      ],
      "execution_count": 0,
      "outputs": []
    },
    {
      "cell_type": "code",
      "metadata": {
        "id": "qTRptZ_IwChh",
        "colab_type": "code",
        "colab": {}
      },
      "source": [
        "char2int = {ch:i for i, ch in enumerate(chars_sorted)}"
      ],
      "execution_count": 0,
      "outputs": []
    },
    {
      "cell_type": "code",
      "metadata": {
        "id": "5Kxqc-5AwK1e",
        "colab_type": "code",
        "colab": {}
      },
      "source": [
        "char_array = np.array(chars_sorted) # decode from int to char"
      ],
      "execution_count": 0,
      "outputs": []
    },
    {
      "cell_type": "code",
      "metadata": {
        "id": "J994aShNwZHX",
        "colab_type": "code",
        "colab": {}
      },
      "source": [
        "text_encoded = np.array([char2int[ch] for ch in text], dtype=np.int32)"
      ],
      "execution_count": 0,
      "outputs": []
    },
    {
      "cell_type": "code",
      "metadata": {
        "id": "KfzYF5FtwlLv",
        "colab_type": "code",
        "outputId": "4010aa78-b249-4df4-cd1b-4efc3bfbb492",
        "colab": {
          "base_uri": "https://localhost:8080/",
          "height": 35
        }
      },
      "source": [
        "text_encoded.shape"
      ],
      "execution_count": 13,
      "outputs": [
        {
          "output_type": "execute_result",
          "data": {
            "text/plain": [
              "(1112350,)"
            ]
          },
          "metadata": {
            "tags": []
          },
          "execution_count": 13
        }
      ]
    },
    {
      "cell_type": "code",
      "metadata": {
        "id": "eS1x4_gQwu1Z",
        "colab_type": "code",
        "outputId": "20861494-8b62-441a-9c58-4a420b8fe93a",
        "colab": {
          "base_uri": "https://localhost:8080/",
          "height": 35
        }
      },
      "source": [
        "print(text[:15], '== Encoding ==>', text_encoded[:15])"
      ],
      "execution_count": 14,
      "outputs": [
        {
          "output_type": "stream",
          "text": [
            "THE MYSTERIOUS  == Encoding ==> [44 32 29  1 37 48 43 44 29 42 33 39 45 43  1]\n"
          ],
          "name": "stdout"
        }
      ]
    },
    {
      "cell_type": "code",
      "metadata": {
        "id": "Czg1czkNw3QC",
        "colab_type": "code",
        "outputId": "55a486ed-a8fc-49eb-be91-656bc908c5be",
        "colab": {
          "base_uri": "https://localhost:8080/",
          "height": 35
        }
      },
      "source": [
        "print(text_encoded[15:21],'== Reverse ==>', ''.join(char_array[text_encoded[15:21]]) )"
      ],
      "execution_count": 15,
      "outputs": [
        {
          "output_type": "stream",
          "text": [
            "[33 43 36 25 38 28] == Reverse ==> ISLAND\n"
          ],
          "name": "stdout"
        }
      ]
    },
    {
      "cell_type": "code",
      "metadata": {
        "id": "vj07QbBdxJd1",
        "colab_type": "code",
        "colab": {}
      },
      "source": [
        "import tensorflow as tf\n",
        "\n",
        "ds_text_encoded = tf.data.Dataset.from_tensor_slices(text_encoded)"
      ],
      "execution_count": 0,
      "outputs": []
    },
    {
      "cell_type": "code",
      "metadata": {
        "id": "ExziQRPbxJag",
        "colab_type": "code",
        "outputId": "e26adf76-ff4b-4fcc-e1e4-3478bd4fd998",
        "colab": {
          "base_uri": "https://localhost:8080/",
          "height": 107
        }
      },
      "source": [
        "for ex in ds_text_encoded.take(5):\n",
        "    print(ex.numpy(), '->', char_array[ex.numpy()])"
      ],
      "execution_count": 17,
      "outputs": [
        {
          "output_type": "stream",
          "text": [
            "44 -> T\n",
            "32 -> H\n",
            "29 -> E\n",
            "1 ->  \n",
            "37 -> M\n"
          ],
          "name": "stdout"
        }
      ]
    },
    {
      "cell_type": "code",
      "metadata": {
        "id": "rMzCqP0MyO7-",
        "colab_type": "code",
        "colab": {}
      },
      "source": [
        "seq_length = 40\n",
        "chunk_size = seq_length +1"
      ],
      "execution_count": 0,
      "outputs": []
    },
    {
      "cell_type": "code",
      "metadata": {
        "id": "ZvawTgVnnMI-",
        "colab_type": "code",
        "colab": {}
      },
      "source": [
        "ds_chunks = ds_text_encoded.batch(chunk_size, drop_remainder=True)"
      ],
      "execution_count": 0,
      "outputs": []
    },
    {
      "cell_type": "code",
      "metadata": {
        "id": "mBi8n-asnTcS",
        "colab_type": "code",
        "colab": {}
      },
      "source": [
        "def split_input_target(chunk):\n",
        "    input_seq = chunk[:-1]\n",
        "    target_seq = chunk[1:]\n",
        "    return input_seq, target_seq"
      ],
      "execution_count": 0,
      "outputs": []
    },
    {
      "cell_type": "code",
      "metadata": {
        "id": "Pkp8Ile8pXhX",
        "colab_type": "code",
        "colab": {}
      },
      "source": [
        "ds_sequences = ds_chunks.map(split_input_target)"
      ],
      "execution_count": 0,
      "outputs": []
    },
    {
      "cell_type": "code",
      "metadata": {
        "id": "YA3PrZnUpeKE",
        "colab_type": "code",
        "outputId": "9d430c10-79c8-4167-bf70-274287245b53",
        "colab": {
          "base_uri": "https://localhost:8080/",
          "height": 125
        }
      },
      "source": [
        "for i in ds_sequences.take(2):\n",
        "    print(\"Input: \",repr(\"\".join(char_array[i[0].numpy()])))\n",
        "    print(\"Target:\",repr(\"\".join(char_array[i[1].numpy()])))\n",
        "    print('----')"
      ],
      "execution_count": 22,
      "outputs": [
        {
          "output_type": "stream",
          "text": [
            "Input:  'THE MYSTERIOUS ISLAND ***\\n\\n\\n\\n\\nProduced b'\n",
            "Target: 'HE MYSTERIOUS ISLAND ***\\n\\n\\n\\n\\nProduced by'\n",
            "----\n",
            "Input:  ' Anthony Matonak, and Trevor Carlson\\n\\n\\n\\n'\n",
            "Target: 'Anthony Matonak, and Trevor Carlson\\n\\n\\n\\n\\n'\n",
            "----\n"
          ],
          "name": "stdout"
        }
      ]
    },
    {
      "cell_type": "code",
      "metadata": {
        "id": "nfeiVR0HqTG-",
        "colab_type": "code",
        "outputId": "5d67f6c8-480a-47fb-d88a-2d294b690317",
        "colab": {
          "base_uri": "https://localhost:8080/",
          "height": 35
        }
      },
      "source": [
        "c = 0\n",
        "for i in ds_sequences:\n",
        "    c+=1\n",
        "print(c)"
      ],
      "execution_count": 23,
      "outputs": [
        {
          "output_type": "stream",
          "text": [
            "27130\n"
          ],
          "name": "stdout"
        }
      ]
    },
    {
      "cell_type": "code",
      "metadata": {
        "id": "fzZUAQbGqb2I",
        "colab_type": "code",
        "colab": {}
      },
      "source": [
        "BATCH_SIZE = 64\n",
        "BUFFER_SIZE = 10000\n",
        "ds = ds_sequences.shuffle(BUFFER_SIZE).batch(BATCH_SIZE)"
      ],
      "execution_count": 0,
      "outputs": []
    },
    {
      "cell_type": "code",
      "metadata": {
        "id": "w9FvyJNhryv_",
        "colab_type": "code",
        "colab": {}
      },
      "source": [
        "import tensorflow as tf\n",
        "import tensorflow_datasets as tfds\n",
        "import pandas as pd\n",
        "import numpy as np\n",
        "from tensorflow.keras import Sequential\n",
        "from tensorflow.keras.layers import Embedding\n",
        "from tensorflow.keras.layers import SimpleRNN, LSTM, GRU\n",
        "from tensorflow.keras.layers import Dense, Bidirectional\n",
        "from tensorflow.keras.optimizers import Adam\n",
        "from tensorflow.keras.losses import BinaryCrossentropy"
      ],
      "execution_count": 0,
      "outputs": []
    },
    {
      "cell_type": "code",
      "metadata": {
        "id": "NbKWiHQRqnwl",
        "colab_type": "code",
        "colab": {}
      },
      "source": [
        "def build_model(vocab_size, embedding_dim, rnn_units):\n",
        "    model = Sequential()\n",
        "\n",
        "    model.add(Embedding(vocab_size, embedding_dim))\n",
        "    model.add(LSTM(rnn_units, return_sequences=True))\n",
        "    model.add(LSTM(rnn_units, return_sequences=True))\n",
        "\n",
        "    model.add(Dense(vocab_size))\n",
        "    return model\n",
        "    "
      ],
      "execution_count": 0,
      "outputs": []
    },
    {
      "cell_type": "code",
      "metadata": {
        "id": "dZvZ8_4PsW-c",
        "colab_type": "code",
        "colab": {}
      },
      "source": [
        "charset_size = len(char_array)\n",
        "embedding_dim = 256\n",
        "rnn_units = 512\n",
        "\n",
        "tf.random.set_seed(1)"
      ],
      "execution_count": 0,
      "outputs": []
    },
    {
      "cell_type": "code",
      "metadata": {
        "id": "lm3mpjUbsfRN",
        "colab_type": "code",
        "outputId": "e6c1e7f4-d514-40c5-ff73-8039280854da",
        "colab": {
          "base_uri": "https://localhost:8080/",
          "height": 269
        }
      },
      "source": [
        "model = build_model(vocab_size=charset_size,\n",
        "                    embedding_dim = embedding_dim,\n",
        "                    rnn_units = rnn_units)\n",
        "\n",
        "model.summary()"
      ],
      "execution_count": 28,
      "outputs": [
        {
          "output_type": "stream",
          "text": [
            "Model: \"sequential\"\n",
            "_________________________________________________________________\n",
            "Layer (type)                 Output Shape              Param #   \n",
            "=================================================================\n",
            "embedding (Embedding)        (None, None, 256)         20480     \n",
            "_________________________________________________________________\n",
            "lstm (LSTM)                  (None, None, 512)         1574912   \n",
            "_________________________________________________________________\n",
            "dense (Dense)                (None, None, 80)          41040     \n",
            "=================================================================\n",
            "Total params: 1,636,432\n",
            "Trainable params: 1,636,432\n",
            "Non-trainable params: 0\n",
            "_________________________________________________________________\n"
          ],
          "name": "stdout"
        }
      ]
    },
    {
      "cell_type": "code",
      "metadata": {
        "id": "N94AMf7ftqBA",
        "colab_type": "code",
        "colab": {}
      },
      "source": [
        "model.compile(optimizer=\"adam\",\n",
        "              loss = tf.keras.losses.SparseCategoricalCrossentropy(\n",
        "                  from_logits = True\n",
        "              ))"
      ],
      "execution_count": 0,
      "outputs": []
    },
    {
      "cell_type": "code",
      "metadata": {
        "id": "ceUurvXAt1TZ",
        "colab_type": "code",
        "outputId": "a35a6a08-e822-4018-f515-28995a24bcd4",
        "colab": {
          "base_uri": "https://localhost:8080/",
          "height": 755
        }
      },
      "source": [
        "model.fit(ds, epochs = 20)"
      ],
      "execution_count": 30,
      "outputs": [
        {
          "output_type": "stream",
          "text": [
            "Epoch 1/20\n",
            "424/424 [==============================] - 13s 32ms/step - loss: 2.3172\n",
            "Epoch 2/20\n",
            "424/424 [==============================] - 13s 31ms/step - loss: 1.7423\n",
            "Epoch 3/20\n",
            "424/424 [==============================] - 13s 31ms/step - loss: 1.5465\n",
            "Epoch 4/20\n",
            "424/424 [==============================] - 13s 31ms/step - loss: 1.4326\n",
            "Epoch 5/20\n",
            "424/424 [==============================] - 13s 32ms/step - loss: 1.3583\n",
            "Epoch 6/20\n",
            "424/424 [==============================] - 13s 31ms/step - loss: 1.3067\n",
            "Epoch 7/20\n",
            "424/424 [==============================] - 13s 31ms/step - loss: 1.2684\n",
            "Epoch 8/20\n",
            "424/424 [==============================] - 13s 31ms/step - loss: 1.2374\n",
            "Epoch 9/20\n",
            "424/424 [==============================] - 13s 31ms/step - loss: 1.2118\n",
            "Epoch 10/20\n",
            "424/424 [==============================] - 13s 31ms/step - loss: 1.1898\n",
            "Epoch 11/20\n",
            "424/424 [==============================] - 13s 31ms/step - loss: 1.1703\n",
            "Epoch 12/20\n",
            "424/424 [==============================] - 13s 31ms/step - loss: 1.1527\n",
            "Epoch 13/20\n",
            "424/424 [==============================] - 13s 31ms/step - loss: 1.1360\n",
            "Epoch 14/20\n",
            "424/424 [==============================] - 13s 31ms/step - loss: 1.1211\n",
            "Epoch 15/20\n",
            "424/424 [==============================] - 13s 31ms/step - loss: 1.1064\n",
            "Epoch 16/20\n",
            "424/424 [==============================] - 13s 32ms/step - loss: 1.0928\n",
            "Epoch 17/20\n",
            "424/424 [==============================] - 13s 31ms/step - loss: 1.0798\n",
            "Epoch 18/20\n",
            "424/424 [==============================] - 13s 32ms/step - loss: 1.0666\n",
            "Epoch 19/20\n",
            "424/424 [==============================] - 14s 32ms/step - loss: 1.0543\n",
            "Epoch 20/20\n",
            "424/424 [==============================] - 13s 31ms/step - loss: 1.0416\n"
          ],
          "name": "stdout"
        },
        {
          "output_type": "execute_result",
          "data": {
            "text/plain": [
              "<tensorflow.python.keras.callbacks.History at 0x7f2a1a053e10>"
            ]
          },
          "metadata": {
            "tags": []
          },
          "execution_count": 30
        }
      ]
    },
    {
      "cell_type": "code",
      "metadata": {
        "id": "UvfRhIr-t3R0",
        "colab_type": "code",
        "colab": {}
      },
      "source": [
        "def sample(model, starting_str, \n",
        "           len_generated_text=500, \n",
        "           max_input_length=40,\n",
        "           scale_factor=1.0):\n",
        "    encoded_input = [char2int[s] for s in starting_str]\n",
        "    encoded_input = tf.reshape(encoded_input, (1, -1))\n",
        "\n",
        "    generated_str = starting_str\n",
        "\n",
        "    model.reset_states()\n",
        "    for i in range(len_generated_text):\n",
        "        logits = model(encoded_input)\n",
        "        logits = tf.squeeze(logits, 0)\n",
        "\n",
        "        scaled_logits = logits * scale_factor\n",
        "        new_char_indx = tf.random.categorical(\n",
        "            scaled_logits, num_samples=1)\n",
        "        \n",
        "        new_char_indx = tf.squeeze(new_char_indx)[-1].numpy()    \n",
        "\n",
        "        generated_str += str(char_array[new_char_indx])\n",
        "        \n",
        "        new_char_indx = tf.expand_dims([new_char_indx], 0)\n",
        "        encoded_input = tf.concat(\n",
        "            [encoded_input, new_char_indx],\n",
        "            axis=1)\n",
        "        encoded_input = encoded_input[:, -max_input_length:]\n",
        "\n",
        "    return generated_str"
      ],
      "execution_count": 0,
      "outputs": []
    },
    {
      "cell_type": "code",
      "metadata": {
        "id": "pKfp5hmfyZZ4",
        "colab_type": "code",
        "colab": {}
      },
      "source": [
        "tf.random.set_seed(1)"
      ],
      "execution_count": 0,
      "outputs": []
    },
    {
      "cell_type": "code",
      "metadata": {
        "id": "DvYzqEZWycLc",
        "colab_type": "code",
        "outputId": "0d9cbf0b-f88b-477b-9733-b5820ffcf5ff",
        "colab": {
          "base_uri": "https://localhost:8080/",
          "height": 109
        }
      },
      "source": [
        "print(sample(model, starting_str='The island', scale_factor = 2.0))"
      ],
      "execution_count": 33,
      "outputs": [
        {
          "output_type": "stream",
          "text": [
            "The island was explored the depths of the forest, and a confident and potash through the colonists, who had been supplied a very prosperity for the forests of the sea.\n",
            "\n",
            "The colonists appeared as if the brig can be less than a continent, the soul should be easily for the water’s boat which was not to explain the extremity of the island, straight for the first part of the island were supplied a regular being called his usual\n",
            "completely deserted. The colonists were finished. The settlers were soon destroyed \n"
          ],
          "name": "stdout"
        }
      ]
    }
  ]
}