{
  "nbformat": 4,
  "nbformat_minor": 0,
  "metadata": {
    "colab": {
      "name": "2 Sentiment Review Movie Data by RNN-LSTM.ipynb",
      "provenance": [],
      "collapsed_sections": []
    },
    "kernelspec": {
      "name": "python3",
      "display_name": "Python 3"
    },
    "accelerator": "GPU"
  },
  "cells": [
    {
      "cell_type": "code",
      "metadata": {
        "id": "_4_51IaikOSd",
        "colab_type": "code",
        "colab": {}
      },
      "source": [
        "import tensorflow as tf\n",
        "import tensorflow_datasets as tfds\n",
        "import pandas as pd\n",
        "import numpy as np"
      ],
      "execution_count": 0,
      "outputs": []
    },
    {
      "cell_type": "code",
      "metadata": {
        "id": "1Vec7ujOk_KC",
        "colab_type": "code",
        "colab": {}
      },
      "source": [
        "df = pd.read_csv('/content/drive/My Drive/Sentiment Review Movie data/movie_data.csv', encoding = 'utf-8')\n"
      ],
      "execution_count": 0,
      "outputs": []
    },
    {
      "cell_type": "code",
      "metadata": {
        "id": "I4JC7g7elHbx",
        "colab_type": "code",
        "colab": {}
      },
      "source": [
        "target = df.pop('sentiment')\n",
        "ds_raw = tf.data.Dataset.from_tensor_slices((df.values, target.values))\n"
      ],
      "execution_count": 0,
      "outputs": []
    },
    {
      "cell_type": "code",
      "metadata": {
        "id": "A4ucASsTmJTO",
        "colab_type": "code",
        "outputId": "9032210b-3ee1-42cf-d53e-ed191bff772c",
        "colab": {
          "base_uri": "https://localhost:8080/",
          "height": 35
        }
      },
      "source": [
        "count = 0\n",
        "for ex in ds_raw:\n",
        "    count +=1\n",
        "print(count)"
      ],
      "execution_count": 4,
      "outputs": [
        {
          "output_type": "stream",
          "text": [
            "50000\n"
          ],
          "name": "stdout"
        }
      ]
    },
    {
      "cell_type": "code",
      "metadata": {
        "id": "SZ0oTfy9mWJo",
        "colab_type": "code",
        "colab": {}
      },
      "source": [
        "tf.random.set_seed(1)\n",
        "ds_raw = ds_raw.shuffle(count, reshuffle_each_iteration=False)\n"
      ],
      "execution_count": 0,
      "outputs": []
    },
    {
      "cell_type": "code",
      "metadata": {
        "id": "24064b4MmikQ",
        "colab_type": "code",
        "colab": {}
      },
      "source": [
        "ds_raw_test = ds_raw.take(25000)\n",
        "ds_raw_train_valid = ds_raw.skip(25000)\n",
        "ds_raw_train = ds_raw_train_valid.take(20000)\n",
        "ds_raw_valid = ds_raw_train_valid.skip(20000)"
      ],
      "execution_count": 0,
      "outputs": []
    },
    {
      "cell_type": "code",
      "metadata": {
        "id": "iljPGbORA_Kk",
        "colab_type": "code",
        "outputId": "9f3ab5ef-686e-4cfc-8542-d0df5b2ec19a",
        "colab": {
          "base_uri": "https://localhost:8080/",
          "height": 125
        }
      },
      "source": [
        "# for (e,l) in ds_raw_train.take(2):\n",
        "#     print(e.numpy()[0][:20])\n",
        "#     print(l)\n",
        "#     print('----')"
      ],
      "execution_count": 9,
      "outputs": [
        {
          "output_type": "stream",
          "text": [
            "b'okay, this movie f*c'\n",
            "tf.Tensor(0, shape=(), dtype=int64)\n",
            "----\n",
            "b'The world is facing '\n",
            "tf.Tensor(0, shape=(), dtype=int64)\n",
            "----\n"
          ],
          "name": "stdout"
        }
      ]
    },
    {
      "cell_type": "markdown",
      "metadata": {
        "id": "rpn5QCCtBgJO",
        "colab_type": "text"
      },
      "source": [
        "## Thu gon cau truc code\n"
      ]
    },
    {
      "cell_type": "code",
      "metadata": {
        "id": "Bqlw_-iiBpJX",
        "colab_type": "code",
        "colab": {}
      },
      "source": [
        "from collections import Counter\n",
        "\n",
        "def preprocessing_datasets(ds_raw_train,\n",
        "                           ds_raw_valid,\n",
        "                           ds_raw_test,\n",
        "                           max_seq_length = None,\n",
        "                           batch_size = 32):\n",
        "    ## find unique tokens\n",
        "    tokenizer = tfds.features.text.Tokenizer()\n",
        "    token_counts = Counter()\n",
        "\n",
        "    for example in ds_raw_train:\n",
        "        tokens = tokenizer.tokenize(example[0].numpy()[0])\n",
        "        if max_seq_length is not None:\n",
        "            tokens = tokens[-max_seq_length:]\n",
        "        token_counts.update(tokens)\n",
        "\n",
        "    print('Vocab-size: ', len(token_counts))\n",
        "\n",
        "    ## encoding the texts\n",
        "    encoder = tfds.features.text.TokenTextEncoder(token_counts)\n",
        "\n",
        "    def encode(text_tensor, label):\n",
        "        text = text_tensor.numpy()[0]\n",
        "        encoded_text = encoder.encode(text)\n",
        "        if max_seq_length is not None:\n",
        "            encoded_text = encoded_text[-max_seq_length:]\n",
        "        return encoded_text, label\n",
        "    \n",
        "    def encode_map_fn(text,label):\n",
        "        return tf.py_function(encode, inp = [text, label],\n",
        "                                Tout = (tf.int64, tf.int64))\n",
        "        \n",
        "    ds_train = ds_raw_train.map(encode_map_fn)\n",
        "    ds_valid = ds_raw_valid.map(encode_map_fn)\n",
        "    ds_test = ds_raw_test.map(encode_map_fn)\n",
        "\n",
        "    ## batching the datasets\n",
        "    train_data = ds_train.padded_batch(\n",
        "        batch_size, padded_shapes = ([-1], []))\n",
        "    valid_data = ds_valid.padded_batch(\n",
        "        batch_size, padded_shapes = ([-1], []))\n",
        "    test_data = ds_test.padded_batch(\n",
        "        batch_size, padded_shapes = ([-1], []))\n",
        "    \n",
        "    return (train_data, valid_data, test_data, len(token_counts))"
      ],
      "execution_count": 0,
      "outputs": []
    },
    {
      "cell_type": "code",
      "metadata": {
        "id": "NByquv0T5ZEP",
        "colab_type": "code",
        "colab": {}
      },
      "source": [
        "from tensorflow.keras import Sequential\n",
        "from tensorflow.keras.layers import Embedding\n",
        "from tensorflow.keras.layers import SimpleRNN, LSTM, GRU\n",
        "from tensorflow.keras.layers import Dense, Bidirectional\n",
        "from tensorflow.keras.optimizers import Adam\n",
        "from tensorflow.keras.losses import BinaryCrossentropy"
      ],
      "execution_count": 0,
      "outputs": []
    },
    {
      "cell_type": "code",
      "metadata": {
        "id": "pmz0_WGz53Wv",
        "colab_type": "code",
        "colab": {}
      },
      "source": [
        "def build_rnn_model(embedding_dim, vocab_size,\n",
        "                    recurrent_type = 'SimpleRNN',\n",
        "                    n_recurrent_units = 64,\n",
        "                    n_recurrent_layers = 1,\n",
        "                    bidirectional = True):\n",
        "    tf.random.set_seed(1)\n",
        "\n",
        "    model = Sequential()\n",
        "    model.add(Embedding(vocab_size, embedding_dim,\n",
        "                        name = 'embed-layer'))\n",
        "    for i in range(n_recurrent_layers):\n",
        "        return_sequences = (i<n_recurrent_layers-1)\n",
        "        if recurrent_type =='SimpleRNN':\n",
        "            recurrent_layer = SimpleRNN(n_recurrent_units,\n",
        "                                        return_sequences = return_sequences,\n",
        "                                        name = 'simpRNN-layer-{}'.format(i))\n",
        "        elif recurrent_type == 'LSTM':\n",
        "            recurrent_layer = LSTM(n_recurrent_units,\n",
        "                                return_sequences = return_sequences,\n",
        "                                name = 'LSTM-layer-{}'.format(i))\n",
        "        elif recurrent_type == 'GRU':\n",
        "            recurrent_layer = GRU(n_recurrent_units,\n",
        "                                return_sequences = return_sequences,\n",
        "                                name = 'GRU-layer-{}'.format(i))    \n",
        "        if bidirectional:\n",
        "            recurrent_layer = Bidirectional(recurrent_layer, \n",
        "                                name = 'bidir_'+\n",
        "                                recurrent_layer.name)\n",
        "        model.add(recurrent_layer)\n",
        "\n",
        "    model.add(Dense(64, activation='relu'))\n",
        "    model.add(Dense(1, activation = 'sigmoid'))\n",
        "\n",
        "    return model"
      ],
      "execution_count": 0,
      "outputs": []
    },
    {
      "cell_type": "code",
      "metadata": {
        "id": "IceXpmx_71kE",
        "colab_type": "code",
        "colab": {
          "base_uri": "https://localhost:8080/",
          "height": 359
        },
        "outputId": "f147e591-c339-488c-ecda-2b24c99f2feb"
      },
      "source": [
        "batch_size = 32\n",
        "embedding_dim = 20\n",
        "max_seq_length = 100\n",
        "\n",
        "train_data, valid_data, test_data, n = preprocessing_datasets(\n",
        "    ds_raw_train, ds_raw_valid, ds_raw_test, \n",
        "    max_seq_length = max_seq_length,\n",
        "    batch_size = batch_size)\n",
        "\n",
        "vocab_size = n+2\n",
        "\n",
        "rnn_model = build_rnn_model(embedding_dim=embedding_dim,\n",
        "                            vocab_size = vocab_size,\n",
        "                            recurrent_type = 'GRU',\n",
        "                            n_recurrent_units = 64,\n",
        "                            n_recurrent_layers = 2,\n",
        "                            bidirectional = True)\n",
        "rnn_model.summary()"
      ],
      "execution_count": 21,
      "outputs": [
        {
          "output_type": "stream",
          "text": [
            "Vocab-size:  58063\n",
            "Model: \"sequential\"\n",
            "_________________________________________________________________\n",
            "Layer (type)                 Output Shape              Param #   \n",
            "=================================================================\n",
            "embed-layer (Embedding)      (None, None, 20)          1161300   \n",
            "_________________________________________________________________\n",
            "bidir_GRU-layer-0 (Bidirecti (None, None, 128)         33024     \n",
            "_________________________________________________________________\n",
            "bidir_GRU-layer-1 (Bidirecti (None, 128)               74496     \n",
            "_________________________________________________________________\n",
            "dense (Dense)                (None, 64)                8256      \n",
            "_________________________________________________________________\n",
            "dense_1 (Dense)              (None, 1)                 65        \n",
            "=================================================================\n",
            "Total params: 1,277,141\n",
            "Trainable params: 1,277,141\n",
            "Non-trainable params: 0\n",
            "_________________________________________________________________\n"
          ],
          "name": "stdout"
        }
      ]
    },
    {
      "cell_type": "code",
      "metadata": {
        "id": "ayN0RLxj8-H3",
        "colab_type": "code",
        "colab": {}
      },
      "source": [
        "rnn_model.compile(optimizer= Adam(0.003),\n",
        "                  loss= BinaryCrossentropy(from_logits=False),\n",
        "                  metrics = ['accuracy'])"
      ],
      "execution_count": 0,
      "outputs": []
    },
    {
      "cell_type": "code",
      "metadata": {
        "id": "gfmBoSAz9kc2",
        "colab_type": "code",
        "colab": {
          "base_uri": "https://localhost:8080/",
          "height": 377
        },
        "outputId": "23b81cb5-3ea6-4783-ff59-562bbd0527d0"
      },
      "source": [
        "history = rnn_model.fit(train_data,\n",
        "                        validation_data = valid_data,\n",
        "                        epochs = 10)"
      ],
      "execution_count": 23,
      "outputs": [
        {
          "output_type": "stream",
          "text": [
            "Epoch 1/10\n",
            "625/625 [==============================] - 82s 131ms/step - loss: 0.4555 - accuracy: 0.7716 - val_loss: 0.3404 - val_accuracy: 0.8398\n",
            "Epoch 2/10\n",
            "625/625 [==============================] - 81s 129ms/step - loss: 0.1720 - accuracy: 0.9334 - val_loss: 0.4316 - val_accuracy: 0.8398\n",
            "Epoch 3/10\n",
            "625/625 [==============================] - 81s 130ms/step - loss: 0.0677 - accuracy: 0.9760 - val_loss: 0.6048 - val_accuracy: 0.8428\n",
            "Epoch 4/10\n",
            "625/625 [==============================] - 81s 129ms/step - loss: 0.0414 - accuracy: 0.9856 - val_loss: 0.6666 - val_accuracy: 0.8366\n",
            "Epoch 5/10\n",
            "625/625 [==============================] - 81s 129ms/step - loss: 0.0212 - accuracy: 0.9934 - val_loss: 0.7343 - val_accuracy: 0.8234\n",
            "Epoch 6/10\n",
            "625/625 [==============================] - 80s 129ms/step - loss: 0.0110 - accuracy: 0.9969 - val_loss: 0.9714 - val_accuracy: 0.8414\n",
            "Epoch 7/10\n",
            "625/625 [==============================] - 80s 129ms/step - loss: 0.0107 - accuracy: 0.9964 - val_loss: 0.9148 - val_accuracy: 0.8130\n",
            "Epoch 8/10\n",
            "625/625 [==============================] - 80s 129ms/step - loss: 0.0117 - accuracy: 0.9961 - val_loss: 0.7420 - val_accuracy: 0.8338\n",
            "Epoch 9/10\n",
            "625/625 [==============================] - 80s 128ms/step - loss: 0.0126 - accuracy: 0.9957 - val_loss: 0.9656 - val_accuracy: 0.8206\n",
            "Epoch 10/10\n",
            "625/625 [==============================] - 81s 129ms/step - loss: 0.0080 - accuracy: 0.9973 - val_loss: 0.9558 - val_accuracy: 0.8346\n"
          ],
          "name": "stdout"
        }
      ]
    },
    {
      "cell_type": "code",
      "metadata": {
        "id": "bJDyF7l49sya",
        "colab_type": "code",
        "colab": {
          "base_uri": "https://localhost:8080/",
          "height": 53
        },
        "outputId": "a06b0d7f-8e6b-4968-bc43-f36464ce70a0"
      },
      "source": [
        "results = rnn_model.evaluate(test_data)\n",
        "print('Test Acc.: {:.2f}%'.format(results[1]*100))"
      ],
      "execution_count": 25,
      "outputs": [
        {
          "output_type": "stream",
          "text": [
            "782/782 [==============================] - 45s 58ms/step - loss: 0.9463 - accuracy: 0.8378\n",
            "Test Acc.: 83.78%\n"
          ],
          "name": "stdout"
        }
      ]
    },
    {
      "cell_type": "code",
      "metadata": {
        "id": "HCMXJEGtC8z_",
        "colab_type": "code",
        "colab": {}
      },
      "source": [
        ""
      ],
      "execution_count": 0,
      "outputs": []
    }
  ]
}